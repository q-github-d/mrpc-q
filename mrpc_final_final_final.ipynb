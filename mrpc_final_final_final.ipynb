{
  "nbformat": 4,
  "nbformat_minor": 0,
  "metadata": {
    "colab": {
      "provenance": []
    },
    "kernelspec": {
      "name": "python3",
      "display_name": "Python 3"
    },
    "language_info": {
      "name": "python"
    }
  },
  "cells": [
    {
      "cell_type": "code",
      "execution_count": 134,
      "metadata": {
        "colab": {
          "base_uri": "https://localhost:8080/"
        },
        "id": "GOw_jALtfVhE",
        "outputId": "82950b74-af73-4376-df4c-652bdc7a79cf"
      },
      "outputs": [
        {
          "output_type": "stream",
          "name": "stderr",
          "text": [
            "[nltk_data] Downloading package stopwords to /root/nltk_data...\n",
            "[nltk_data]   Package stopwords is already up-to-date!\n"
          ]
        },
        {
          "output_type": "execute_result",
          "data": {
            "text/plain": [
              "True"
            ]
          },
          "metadata": {},
          "execution_count": 134
        }
      ],
      "source": [
        "from __future__ import print_function\n",
        "import numpy as np\n",
        "import csv, json\n",
        "from zipfile import ZipFile\n",
        "from os.path import expanduser, exists\n",
        "from keras.preprocessing.text import Tokenizer\n",
        "from keras.utils import pad_sequences\n",
        "from keras.utils.data_utils import get_file\n",
        "import pandas as pd\n",
        "import string\n",
        "import nltk\n",
        "import pickle\n",
        "nltk.download('stopwords')"
      ]
    },
    {
      "cell_type": "code",
      "source": [
        "!python --version"
      ],
      "metadata": {
        "colab": {
          "base_uri": "https://localhost:8080/"
        },
        "id": "rVJowx_s_ix0",
        "outputId": "4e33adb4-59a7-4fd4-9c73-2b905cf9b9a1"
      },
      "execution_count": 135,
      "outputs": [
        {
          "output_type": "stream",
          "name": "stdout",
          "text": [
            "Python 3.9.16\n"
          ]
        }
      ]
    },
    {
      "cell_type": "code",
      "source": [
        "#Download the input data from here \n",
        "# https://gist.github.com/W4ngatang/60c2bdb54d156a41194446737ce03e2e\n",
        "# Download it using \n",
        "\n",
        "# python untitled.py --data_dir glue_data --tasks all\n",
        "\n",
        "#Add the following lines in the  untitled.py to properly download the data\n",
        "\n",
        "# import io\n",
        "# URLLIB = urllib.request\n",
        "# 'MRPC':'https://raw.githubusercontent.com/MegEngine/Models/master/official/nlp/bert/glue_data/MRPC/dev_ids.tsv' inside TASK2PATH \n",
        "\n",
        "# !python untitled.py --data_dir glue_data --tasks all"
      ],
      "metadata": {
        "id": "CdEjWYsDgLxs"
      },
      "execution_count": 136,
      "outputs": []
    },
    {
      "cell_type": "code",
      "source": [
        "QUESTION_PAIRS_FILE = '/content/glue_data/MRPC/msr_paraphrase_train.txt'\n",
        "QUESTION_PAIRS_FILE_TEST = '/content/glue_data/MRPC/msr_paraphrase_test.txt'\n",
        "GLOVE_ZIP_FILE_URL = 'http://nlp.stanford.edu/data/glove.6B.zip'\n",
        "GLOVE_ZIP_FILE = 'glove.6B.zip'\n",
        "GLOVE_FILE = 'glove.6B.100d.txt'\n",
        "Q1_TRAINING_DATA_FILE = 'q1_train.npy'\n",
        "Q2_TRAINING_DATA_FILE = 'q2_train.npy'\n",
        "LABEL_TRAINING_DATA_FILE = 'label_train.npy'\n",
        "WORD_EMBEDDING_MATRIX_FILE = 'word_embedding_matrix.npy'\n",
        "NB_WORDS_DATA_FILE = 'nb_words.json'\n",
        "\n",
        "Q1_TESTING_DATA_FILE = 'q1_test.npy'\n",
        "Q2_TESTING_DATA_FILE = 'q2_test.npy'\n",
        "LABEL_TESTING_DATA_FILE = 'label_test.npy'\n",
        "\n",
        "MAX_NB_WORDS = 200000\n",
        "MAX_SEQUENCE_LENGTH = 25\n",
        "EMBEDDING_DIM = 100"
      ],
      "metadata": {
        "id": "0sm3xnPVfaIn"
      },
      "execution_count": 137,
      "outputs": []
    },
    {
      "cell_type": "code",
      "source": [
        "def get_list(filename_path):\n",
        "  \"\"\"Read the data from file and return the relevant data in list\n",
        "\n",
        "  Parameters:\n",
        "  filename_path (str): Location of File\n",
        "\n",
        "  Returns:\n",
        "  list: sentence1\n",
        "  list: sentence2\n",
        "  list: label\n",
        "  \n",
        "  \"\"\"\n",
        "  print(\"Processing\", filename_path)\n",
        "\n",
        "  sentence1 = []\n",
        "  sentence2 = []\n",
        "  is_duplicate = []\n",
        "  with open(filename_path, encoding='utf-8') as csvfile:\n",
        "      fieldnames = ['label', 'id1', 'id2', 'sentence1', 'sentence2']\n",
        "      reader  = pd.read_csv(filename_path, sep='\\t', quoting=csv.QUOTE_NONE)\n",
        "      reader.columns = fieldnames\n",
        "      totalrows = 0\n",
        "      for ind, row in reader.iterrows():\n",
        "        totalrows+=1\n",
        "        if row['sentence1'] is None:\n",
        "          continue\n",
        "        if row['sentence2'] is None:\n",
        "          continue\n",
        "        if row['label'] is None: \n",
        "          continue\n",
        "        sentence1.append(row['sentence1'])\n",
        "        sentence2.append(row['sentence2'])\n",
        "        is_duplicate.append(row['label'])\n",
        "      print(totalrows)\n",
        "\n",
        "  print('Question pairs: %d' % len(sentence1))\n",
        "  return sentence1, sentence2, is_duplicate"
      ],
      "metadata": {
        "id": "EaWAEyv8gBXs"
      },
      "execution_count": 138,
      "outputs": []
    },
    {
      "cell_type": "code",
      "source": [
        "sentence1, sentence2, is_duplicate= get_list(QUESTION_PAIRS_FILE)\n",
        "sentence1_test, sentence2_test, is_duplicate_test= get_list(QUESTION_PAIRS_FILE_TEST)"
      ],
      "metadata": {
        "colab": {
          "base_uri": "https://localhost:8080/"
        },
        "id": "98U4Dti97KaO",
        "outputId": "2ddeafb5-aeb7-47a7-defd-f910139e8313"
      },
      "execution_count": 139,
      "outputs": [
        {
          "output_type": "stream",
          "name": "stdout",
          "text": [
            "Processing /content/glue_data/MRPC/msr_paraphrase_train.txt\n",
            "4076\n",
            "Question pairs: 4076\n",
            "Processing /content/glue_data/MRPC/msr_paraphrase_test.txt\n",
            "1725\n",
            "Question pairs: 1725\n"
          ]
        }
      ]
    },
    {
      "cell_type": "code",
      "source": [
        "len(is_duplicate_test)"
      ],
      "metadata": {
        "id": "XHIY0CyoXMTp",
        "colab": {
          "base_uri": "https://localhost:8080/"
        },
        "outputId": "1284c817-e3de-4087-c45f-14e25f1b2406"
      },
      "execution_count": 140,
      "outputs": [
        {
          "output_type": "execute_result",
          "data": {
            "text/plain": [
              "1725"
            ]
          },
          "metadata": {},
          "execution_count": 140
        }
      ]
    },
    {
      "cell_type": "code",
      "source": [
        "def remove_punctuation(list_of_test):\n",
        "  \"\"\"Preprocessing on input data. Removing stopwords, punctuation and making lowercase.\n",
        "\n",
        "  Parameters:\n",
        "  list_of_test (list): list of sentences \n",
        "\n",
        "  Returns:\n",
        "  list: Processed List\n",
        "  \n",
        "  \"\"\"\n",
        "  final_list = []\n",
        "  stopwords = nltk.corpus.stopwords.words('english')\n",
        "  for x in list_of_test:\n",
        "    punctuationfree=\"\".join([i.lower() for i in x if i not in string.punctuation])\n",
        "    filtered = ' '.join([word for word in punctuationfree.split() if word not in stopwords])\n",
        "    final_list.append(filtered)\n",
        "  return final_list"
      ],
      "metadata": {
        "id": "945mUkasv8EC"
      },
      "execution_count": 141,
      "outputs": []
    },
    {
      "cell_type": "code",
      "source": [
        "sentence1 = remove_punctuation(sentence1)\n",
        "sentence2 = remove_punctuation(sentence2)\n",
        "sentence1_test = remove_punctuation(sentence1_test)\n",
        "sentence2_test = remove_punctuation(sentence2_test)"
      ],
      "metadata": {
        "id": "1nwxldJHw8Hn"
      },
      "execution_count": 142,
      "outputs": []
    },
    {
      "cell_type": "code",
      "source": [
        "def my_tokenizer(sentence1, sentence2):\n",
        "  \"\"\"Tokenizes the input data\n",
        "\n",
        "  Parameters:\n",
        "  sentence1 (list): Sentence1\n",
        "  sentence2 (list): Sentence2\n",
        "\n",
        "  Returns:\n",
        "  dict: word_index\n",
        "  list: sentence1 word sequence\n",
        "  list: sentence2 word sequence\n",
        "  tokenizer: tokenizer fitted on train data\n",
        "  \n",
        "  \"\"\"\n",
        "  questions = sentence1 + sentence2\n",
        "  tokenizer = Tokenizer(num_words=MAX_NB_WORDS)\n",
        "  tokenizer.fit_on_texts(questions)\n",
        "  sentence1_word_sequences = tokenizer.texts_to_sequences(sentence1)\n",
        "  sentence2_word_sequences = tokenizer.texts_to_sequences(sentence2)\n",
        "  word_index = tokenizer.word_index\n",
        "\n",
        "  print(\"Words in index: %d\" % len(word_index))\n",
        "  return word_index, sentence1_word_sequences, sentence2_word_sequences, tokenizer"
      ],
      "metadata": {
        "id": "WCKt-60qiAk8"
      },
      "execution_count": 143,
      "outputs": []
    },
    {
      "cell_type": "code",
      "source": [
        "work_index, sentence1_word_sequences, sentence2_word_sequences, tokenizer = my_tokenizer(sentence1, sentence2)\n",
        "sentence1_word_sequences_test = tokenizer.texts_to_sequences(sentence1_test)\n",
        "sentence2_word_sequences_test = tokenizer.texts_to_sequences(sentence2_test)"
      ],
      "metadata": {
        "colab": {
          "base_uri": "https://localhost:8080/"
        },
        "id": "YfwjIdhC8CDE",
        "outputId": "1493a18d-29fa-403d-d788-6d2127dd72ab"
      },
      "execution_count": 144,
      "outputs": [
        {
          "output_type": "stream",
          "name": "stdout",
          "text": [
            "Words in index: 14246\n"
          ]
        }
      ]
    },
    {
      "cell_type": "code",
      "source": [
        "# Downloading the GLove file and extracting embeddings_index\n",
        "\n",
        "if not exists(GLOVE_ZIP_FILE):\n",
        "    zipfile = ZipFile(get_file(GLOVE_ZIP_FILE, GLOVE_ZIP_FILE_URL))\n",
        "    zipfile.extract(GLOVE_FILE)"
      ],
      "metadata": {
        "id": "nwTgZFr2iGB0"
      },
      "execution_count": 145,
      "outputs": []
    },
    {
      "cell_type": "code",
      "source": [
        "print(\"Processing\", GLOVE_FILE)\n",
        "\n",
        "embeddings_index = {}\n",
        "with open(GLOVE_FILE, encoding='utf-8') as f:\n",
        "    for line in f:\n",
        "        values = line.split(' ')\n",
        "        word = values[0]\n",
        "        embedding = np.asarray(values[1:], dtype='float32')\n",
        "        embeddings_index[word] = embedding\n",
        "\n",
        "print('Word embeddings: %d' % len(embeddings_index))"
      ],
      "metadata": {
        "colab": {
          "base_uri": "https://localhost:8080/"
        },
        "id": "LvyT1Ooakxrd",
        "outputId": "835c1a4f-ccce-44cc-aad7-e9dfde1b37bc"
      },
      "execution_count": 146,
      "outputs": [
        {
          "output_type": "stream",
          "name": "stdout",
          "text": [
            "Processing glove.6B.100d.txt\n",
            "Word embeddings: 400000\n"
          ]
        }
      ]
    },
    {
      "cell_type": "code",
      "source": [
        "print(len(embeddings_index))"
      ],
      "metadata": {
        "colab": {
          "base_uri": "https://localhost:8080/"
        },
        "id": "tu5Y3GM3oTg9",
        "outputId": "03f8ed63-a67c-4771-a6aa-2415bbf4aafd"
      },
      "execution_count": 147,
      "outputs": [
        {
          "output_type": "stream",
          "name": "stdout",
          "text": [
            "400000\n"
          ]
        }
      ]
    },
    {
      "cell_type": "code",
      "source": [
        "def get_embeddings(word_index):\n",
        "  \"\"\"Get embeddings matriz for the words in word_index\n",
        "\n",
        "  Parameters:\n",
        "  word_index (dict): word_index from tokenizer\n",
        "\n",
        "  Returns:\n",
        "  list: word_embedding_matrix\n",
        "  int: number of words\n",
        "  \n",
        "  \"\"\"  \n",
        "  nb_words = min(MAX_NB_WORDS, len(word_index))\n",
        "  word_embedding_matrix = np.zeros((nb_words + 1, EMBEDDING_DIM))\n",
        "  for word, i in word_index.items():\n",
        "      if i > MAX_NB_WORDS:\n",
        "          continue\n",
        "      embedding_vector = embeddings_index.get(word)\n",
        "      if embedding_vector is not None:\n",
        "          word_embedding_matrix[i] = embedding_vector\n",
        "\n",
        "  print('Null word embeddings: %d' % np.sum(np.sum(word_embedding_matrix, axis=1) == 0))\n",
        "  return word_embedding_matrix, nb_words"
      ],
      "metadata": {
        "id": "-cTQEAy9m5i5"
      },
      "execution_count": 148,
      "outputs": []
    },
    {
      "cell_type": "code",
      "source": [
        "word_embedding_matrix, nb_words = get_embeddings(work_index)"
      ],
      "metadata": {
        "colab": {
          "base_uri": "https://localhost:8080/"
        },
        "id": "fidKntnT9x0c",
        "outputId": "1afd28da-0912-4e9a-f88a-62ab26e1f42b"
      },
      "execution_count": 149,
      "outputs": [
        {
          "output_type": "stream",
          "name": "stdout",
          "text": [
            "Null word embeddings: 1474\n"
          ]
        }
      ]
    },
    {
      "cell_type": "code",
      "source": [
        "def finaL_save(sentence1_word_sequences, sentence2_word_sequences, is_duplicate):\n",
        "  \"\"\"Add padding to the tokeinzed data\n",
        "\n",
        "  Parameters:\n",
        "  list: sentence1 word sequence\n",
        "  list: sentence2 word sequence\n",
        "  list: lables\n",
        "\n",
        "  Returns:\n",
        "  numpy.ndarray: Equal sized word sequence for sentence 1\n",
        "  numpy.ndarray: Equal sized word sequence for sentence 1\n",
        "  numpy.ndarray: labels\n",
        "  \n",
        "  \"\"\"  \n",
        "  q1_data = pad_sequences(sentence1_word_sequences, maxlen=MAX_SEQUENCE_LENGTH)\n",
        "  q2_data = pad_sequences(sentence2_word_sequences, maxlen=MAX_SEQUENCE_LENGTH)\n",
        "  labels = np.array(is_duplicate, dtype=int)\n",
        "  print('Shape of sentence1 data tensor:', q1_data.shape)\n",
        "  print('Shape of sentence2 data tensor:', q2_data.shape)\n",
        "  print('Shape of label tensor:', labels.shape)\n",
        "  return q1_data, q2_data, labels"
      ],
      "metadata": {
        "id": "rxQ1rbiTnmuT"
      },
      "execution_count": 150,
      "outputs": []
    },
    {
      "cell_type": "code",
      "source": [
        "q1_data, q2_data, labels= finaL_save(sentence1_word_sequences, sentence2_word_sequences, is_duplicate)\n",
        "q1_data_test, q2_data_test, labels_test= finaL_save(sentence1_word_sequences_test, sentence2_word_sequences_test, is_duplicate_test)"
      ],
      "metadata": {
        "colab": {
          "base_uri": "https://localhost:8080/"
        },
        "id": "HOCHSFwj-UM0",
        "outputId": "203beb37-5ac1-4caf-b78c-270652874124"
      },
      "execution_count": 151,
      "outputs": [
        {
          "output_type": "stream",
          "name": "stdout",
          "text": [
            "Shape of sentence1 data tensor: (4076, 25)\n",
            "Shape of sentence2 data tensor: (4076, 25)\n",
            "Shape of label tensor: (4076,)\n",
            "Shape of sentence1 data tensor: (1725, 25)\n",
            "Shape of sentence2 data tensor: (1725, 25)\n",
            "Shape of label tensor: (1725,)\n"
          ]
        }
      ]
    },
    {
      "cell_type": "code",
      "source": [
        "np.save(open(Q1_TRAINING_DATA_FILE, 'wb'), q1_data)\n",
        "np.save(open(Q2_TRAINING_DATA_FILE, 'wb'), q2_data)\n",
        "np.save(open(LABEL_TRAINING_DATA_FILE, 'wb'), labels)\n",
        "np.save(open(WORD_EMBEDDING_MATRIX_FILE, 'wb'), word_embedding_matrix)\n",
        "with open(NB_WORDS_DATA_FILE, 'w') as f:\n",
        "    json.dump({'nb_words': nb_words}, f)\n",
        "with open('tokenizer.pickle', 'wb') as handle:\n",
        "    pickle.dump(tokenizer, handle, protocol=pickle.HIGHEST_PROTOCOL)"
      ],
      "metadata": {
        "id": "UdV3R-g1npeM"
      },
      "execution_count": 152,
      "outputs": []
    },
    {
      "cell_type": "code",
      "source": [
        "np.save(open(Q1_TESTING_DATA_FILE, 'wb'), q1_data_test)\n",
        "np.save(open(Q2_TESTING_DATA_FILE, 'wb'), q2_data_test)\n",
        "np.save(open(LABEL_TESTING_DATA_FILE, 'wb'), labels_test)"
      ],
      "metadata": {
        "id": "DF7WZIJ3_Krh"
      },
      "execution_count": 153,
      "outputs": []
    },
    {
      "cell_type": "code",
      "source": [
        "%matplotlib inline\n",
        "from __future__ import print_function\n",
        "import numpy as np\n",
        "import pandas as pd\n",
        "import datetime, time, json\n",
        "from keras.models import Model\n",
        "from keras.layers import Input, Bidirectional, LSTM, dot, Flatten, Dense, Reshape, add, Dropout, BatchNormalization,TimeDistributed, Lambda, concatenate\n",
        "from keras.layers import Embedding\n",
        "from keras.regularizers import l2\n",
        "from keras.callbacks import Callback, ModelCheckpoint, EarlyStopping\n",
        "from keras import backend as K\n",
        "from sklearn.model_selection import train_test_split"
      ],
      "metadata": {
        "id": "o0dLQ_Ccny_y"
      },
      "execution_count": 154,
      "outputs": []
    },
    {
      "cell_type": "code",
      "source": [
        "Q1_TRAINING_DATA_FILE = 'q1_train.npy'\n",
        "Q2_TRAINING_DATA_FILE = 'q2_train.npy'\n",
        "LABEL_TRAINING_DATA_FILE = 'label_train.npy'\n",
        "WORD_EMBEDDING_MATRIX_FILE = 'word_embedding_matrix.npy'\n",
        "NB_WORDS_DATA_FILE = 'nb_words.json'\n",
        "\n",
        "Q1_TESTING_DATA_FILE = 'q1_test.npy'\n",
        "Q2_TESTING_DATA_FILE = 'q2_test.npy'\n",
        "LABEL_TESTING_DATA_FILE = 'label_test.npy'\n",
        "\n",
        "MODEL_WEIGHTS_FILE = 'model_weights.h5'\n",
        "MAX_SEQUENCE_LENGTH = 25\n",
        "WORD_EMBEDDING_DIM = 100\n",
        "SENT_EMBEDDING_DIM = 128\n",
        "VALIDATION_SPLIT = 0.1\n",
        "TEST_SPLIT = 0.1\n",
        "RNG_SEED = 13371447\n",
        "NB_EPOCHS = 25\n",
        "DROPOUT = 0.2\n",
        "BATCH_SIZE = 516"
      ],
      "metadata": {
        "id": "2vRCFnRXn7D_"
      },
      "execution_count": 155,
      "outputs": []
    },
    {
      "cell_type": "code",
      "source": [
        "q1_data = np.load(open(Q1_TRAINING_DATA_FILE, 'rb'))\n",
        "q2_data = np.load(open(Q2_TRAINING_DATA_FILE, 'rb'))\n",
        "labels = np.load(open(LABEL_TRAINING_DATA_FILE, 'rb'))\n",
        "word_embedding_matrix = np.load(open(WORD_EMBEDDING_MATRIX_FILE, 'rb'))\n",
        "with open(NB_WORDS_DATA_FILE, 'r') as f:\n",
        "    nb_words = json.load(f)['nb_words']\n",
        "with open('tokenizer.pickle', 'rb') as handle:\n",
        "    tokenizer2 = pickle.load(handle)"
      ],
      "metadata": {
        "id": "6Ic13we4oLDF"
      },
      "execution_count": 156,
      "outputs": []
    },
    {
      "cell_type": "code",
      "source": [
        "q1_data.shape"
      ],
      "metadata": {
        "colab": {
          "base_uri": "https://localhost:8080/"
        },
        "id": "WOhcyCv6oNgz",
        "outputId": "cb0e3724-4f7f-40b3-8af4-9713e0639f54"
      },
      "execution_count": 157,
      "outputs": [
        {
          "output_type": "execute_result",
          "data": {
            "text/plain": [
              "(4076, 25)"
            ]
          },
          "metadata": {},
          "execution_count": 157
        }
      ]
    },
    {
      "cell_type": "code",
      "source": [
        "X = np.stack((q1_data, q2_data), axis=1)\n",
        "y = labels\n",
        "X_train, X_test, y_train, y_test = train_test_split(X, y, test_size=TEST_SPLIT, random_state=RNG_SEED)\n",
        "Q1_train = X_train[:,0]\n",
        "Q2_train = X_train[:,1]\n",
        "Q1_test = X_test[:,0]\n",
        "Q2_test = X_test[:,1]"
      ],
      "metadata": {
        "id": "no1qJFZOoVaz"
      },
      "execution_count": 158,
      "outputs": []
    },
    {
      "cell_type": "code",
      "source": [
        "print(word_embedding_matrix.shape)"
      ],
      "metadata": {
        "colab": {
          "base_uri": "https://localhost:8080/"
        },
        "id": "vxMgDf10oBt6",
        "outputId": "dc978145-a4d4-4369-d73f-b996beb47d21"
      },
      "execution_count": 159,
      "outputs": [
        {
          "output_type": "stream",
          "name": "stdout",
          "text": [
            "(14247, 100)\n"
          ]
        }
      ]
    },
    {
      "cell_type": "code",
      "source": [
        "sentence1 = Input(shape=(MAX_SEQUENCE_LENGTH,))\n",
        "sentence2 = Input(shape=(MAX_SEQUENCE_LENGTH,))\n",
        "\n",
        "q1 = Embedding(nb_words + 1, \n",
        "                 WORD_EMBEDDING_DIM, \n",
        "                 weights=[word_embedding_matrix], \n",
        "                 input_length=MAX_SEQUENCE_LENGTH, \n",
        "                 trainable=False)(sentence1)\n",
        "q1 = Bidirectional(LSTM(SENT_EMBEDDING_DIM, return_sequences=True), merge_mode=\"sum\")(q1)\n",
        "\n",
        "q2 = Embedding(nb_words + 1, \n",
        "                 WORD_EMBEDDING_DIM, \n",
        "                 weights=[word_embedding_matrix], \n",
        "                 input_length=MAX_SEQUENCE_LENGTH, \n",
        "                 trainable=False)(sentence2)\n",
        "q2 = Bidirectional(LSTM(SENT_EMBEDDING_DIM, return_sequences=True), merge_mode=\"sum\")(q2)\n",
        "\n",
        "attention = dot([q1,q2], [1,1])\n",
        "attention = Flatten()(attention)\n",
        "attention = Dense((MAX_SEQUENCE_LENGTH*SENT_EMBEDDING_DIM))(attention)\n",
        "attention = Reshape((MAX_SEQUENCE_LENGTH, SENT_EMBEDDING_DIM))(attention)\n",
        "\n",
        "merged = add([q1,attention])\n",
        "merged = Flatten()(merged)\n",
        "merged = Dense(200, activation='relu')(merged)\n",
        "merged = Dropout(DROPOUT)(merged)\n",
        "merged = BatchNormalization()(merged)\n",
        "# merged = Dense(200, activation='relu')(merged)\n",
        "# merged = Dropout(DROPOUT)(merged)\n",
        "# merged = BatchNormalization()(merged)\n",
        "# merged = Dense(200, activation='relu')(merged)\n",
        "# merged = Dropout(DROPOUT)(merged)\n",
        "# merged = BatchNormalization()(merged)\n",
        "merged = Dense(200, activation='relu')(merged)\n",
        "merged = Dropout(DROPOUT)(merged)\n",
        "merged = BatchNormalization()(merged)\n",
        "\n",
        "is_duplicate = Dense(1, activation='sigmoid')(merged)\n",
        "\n",
        "model = Model(inputs=[sentence1,sentence2], outputs=is_duplicate)\n",
        "model.compile(loss='binary_crossentropy', optimizer='adam', metrics=['accuracy'])"
      ],
      "metadata": {
        "id": "h88IukHls4jc"
      },
      "execution_count": 160,
      "outputs": []
    },
    {
      "cell_type": "code",
      "source": [
        "model.summary()"
      ],
      "metadata": {
        "colab": {
          "base_uri": "https://localhost:8080/"
        },
        "id": "gHeno9ZImKSA",
        "outputId": "466f9e98-c1ce-4684-ac18-f8efc6a34bef"
      },
      "execution_count": 161,
      "outputs": [
        {
          "output_type": "stream",
          "name": "stdout",
          "text": [
            "Model: \"model_2\"\n",
            "__________________________________________________________________________________________________\n",
            " Layer (type)                   Output Shape         Param #     Connected to                     \n",
            "==================================================================================================\n",
            " input_7 (InputLayer)           [(None, 25)]         0           []                               \n",
            "                                                                                                  \n",
            " input_8 (InputLayer)           [(None, 25)]         0           []                               \n",
            "                                                                                                  \n",
            " embedding_5 (Embedding)        (None, 25, 100)      1424700     ['input_7[0][0]']                \n",
            "                                                                                                  \n",
            " embedding_6 (Embedding)        (None, 25, 100)      1424700     ['input_8[0][0]']                \n",
            "                                                                                                  \n",
            " bidirectional_4 (Bidirectional  (None, 25, 128)     234496      ['embedding_5[0][0]']            \n",
            " )                                                                                                \n",
            "                                                                                                  \n",
            " bidirectional_5 (Bidirectional  (None, 25, 128)     234496      ['embedding_6[0][0]']            \n",
            " )                                                                                                \n",
            "                                                                                                  \n",
            " dot_2 (Dot)                    (None, 128, 128)     0           ['bidirectional_4[0][0]',        \n",
            "                                                                  'bidirectional_5[0][0]']        \n",
            "                                                                                                  \n",
            " flatten_4 (Flatten)            (None, 16384)        0           ['dot_2[0][0]']                  \n",
            "                                                                                                  \n",
            " dense_8 (Dense)                (None, 3200)         52432000    ['flatten_4[0][0]']              \n",
            "                                                                                                  \n",
            " reshape_2 (Reshape)            (None, 25, 128)      0           ['dense_8[0][0]']                \n",
            "                                                                                                  \n",
            " add_2 (Add)                    (None, 25, 128)      0           ['bidirectional_4[0][0]',        \n",
            "                                                                  'reshape_2[0][0]']              \n",
            "                                                                                                  \n",
            " flatten_5 (Flatten)            (None, 3200)         0           ['add_2[0][0]']                  \n",
            "                                                                                                  \n",
            " dense_9 (Dense)                (None, 200)          640200      ['flatten_5[0][0]']              \n",
            "                                                                                                  \n",
            " dropout_4 (Dropout)            (None, 200)          0           ['dense_9[0][0]']                \n",
            "                                                                                                  \n",
            " batch_normalization_4 (BatchNo  (None, 200)         800         ['dropout_4[0][0]']              \n",
            " rmalization)                                                                                     \n",
            "                                                                                                  \n",
            " dense_10 (Dense)               (None, 200)          40200       ['batch_normalization_4[0][0]']  \n",
            "                                                                                                  \n",
            " dropout_5 (Dropout)            (None, 200)          0           ['dense_10[0][0]']               \n",
            "                                                                                                  \n",
            " batch_normalization_5 (BatchNo  (None, 200)         800         ['dropout_5[0][0]']              \n",
            " rmalization)                                                                                     \n",
            "                                                                                                  \n",
            " dense_11 (Dense)               (None, 1)            201         ['batch_normalization_5[0][0]']  \n",
            "                                                                                                  \n",
            "==================================================================================================\n",
            "Total params: 56,432,593\n",
            "Trainable params: 53,582,393\n",
            "Non-trainable params: 2,850,200\n",
            "__________________________________________________________________________________________________\n"
          ]
        }
      ]
    },
    {
      "cell_type": "code",
      "source": [
        "print(\"Starting training at\", datetime.datetime.now())\n",
        "t0 = time.time()\n",
        "callbacks = [ModelCheckpoint(MODEL_WEIGHTS_FILE, monitor='val_accuracy', save_best_only=True), EarlyStopping(monitor='val_loss', mode='min', verbose=1)]\n",
        "history = model.fit([Q1_train, Q2_train],\n",
        "                    y_train,\n",
        "                    epochs=NB_EPOCHS,\n",
        "                    validation_split=VALIDATION_SPLIT,\n",
        "                    verbose=2,\n",
        "                    batch_size=BATCH_SIZE,\n",
        "                    callbacks=callbacks)\n",
        "t1 = time.time()\n",
        "print(\"Training ended at\", datetime.datetime.now())\n",
        "print(\"Minutes elapsed: %f\" % ((t1 - t0) / 60.))"
      ],
      "metadata": {
        "colab": {
          "base_uri": "https://localhost:8080/"
        },
        "id": "63TdsBLYs6zJ",
        "outputId": "8c869ffb-53d7-4f1a-b11d-1bc8fa217420"
      },
      "execution_count": null,
      "outputs": [
        {
          "output_type": "stream",
          "name": "stdout",
          "text": [
            "Starting training at 2023-03-24 12:40:21.151072\n",
            "Epoch 1/25\n",
            "7/7 - 52s - loss: 0.8752 - accuracy: 0.5526 - val_loss: 0.8031 - val_accuracy: 0.6594 - 52s/epoch - 7s/step\n",
            "Epoch 2/25\n",
            "7/7 - 40s - loss: 0.7197 - accuracy: 0.5765 - val_loss: 0.9451 - val_accuracy: 0.6839 - 40s/epoch - 6s/step\n",
            "Epoch 2: early stopping\n",
            "Training ended at 2023-03-24 12:41:53.320623\n",
            "Minutes elapsed: 1.536129\n"
          ]
        }
      ]
    },
    {
      "cell_type": "code",
      "source": [
        "acc = pd.DataFrame({'epoch': [ i + 1 for i in history.epoch ],\n",
        "                    'training': history.history['accuracy'],\n",
        "                    'validation': history.history['val_accuracy']})\n",
        "ax = acc.set_index('epoch').plot()\n",
        "# ax = acc.iloc[:,:].plot(x='epoch', figsize={5,8}, grid=True)\n",
        "ax.set_ylabel(\"accuracy\")\n",
        "ax.set_ylim([0.0,1.0]);"
      ],
      "metadata": {
        "colab": {
          "base_uri": "https://localhost:8080/",
          "height": 283
        },
        "id": "ZARry3GqtC43",
        "outputId": "549a8e99-be6d-479c-e927-66be900295b5"
      },
      "execution_count": null,
      "outputs": [
        {
          "output_type": "display_data",
          "data": {
            "text/plain": [
              "<Figure size 432x288 with 1 Axes>"
            ],
            "image/png": "[encoded data removed]"
          },
          "metadata": {
            "needs_background": "light"
          }
        }
      ]
    },
    {
      "cell_type": "code",
      "source": [
        "max_val_acc, idx = max((val, idx) for (idx, val) in enumerate(history.history['val_accuracy']))\n",
        "print('Maximum accuracy at epoch', '{:d}'.format(idx+1), '=', '{:.4f}'.format(max_val_acc))"
      ],
      "metadata": {
        "colab": {
          "base_uri": "https://localhost:8080/"
        },
        "id": "WfjJW03sxQbC",
        "outputId": "77f5947e-a751-4c43-9127-99842a6f4583"
      },
      "execution_count": null,
      "outputs": [
        {
          "output_type": "stream",
          "name": "stdout",
          "text": [
            "Maximum accuracy at epoch 2 = 0.6839\n"
          ]
        }
      ]
    },
    {
      "cell_type": "code",
      "source": [
        "# model.load_weights(MODEL_WEIGHTS_FILE)\n",
        "loss, accuracy = model.evaluate([q1_data_test, q2_data_test], np.asarray(is_duplicate_test), verbose=0)\n",
        "print('loss = {0:.4f}, accuracy = {1:.4f}'.format(loss, accuracy))\n",
        "# loss = 0.7759, accuracy = 0.6858"
      ],
      "metadata": {
        "colab": {
          "base_uri": "https://localhost:8080/"
        },
        "id": "BAGYRhXeyHUT",
        "outputId": "95a95ce4-4bab-4b06-c315-d83b41d3f716"
      },
      "execution_count": null,
      "outputs": [
        {
          "output_type": "stream",
          "name": "stdout",
          "text": [
            "loss = 0.9784, accuracy = 0.6870\n"
          ]
        }
      ]
    },
    {
      "cell_type": "code",
      "source": [
        "# model.save(MODEL_WEIGHTS_FILE)"
      ],
      "metadata": {
        "id": "7N3A8kayyMxa"
      },
      "execution_count": null,
      "outputs": []
    },
    {
      "cell_type": "code",
      "source": [
        "model.save_weights('my_model_weights.h5')\n",
        "json_string = model.to_json()"
      ],
      "metadata": {
        "id": "urLcMzbdqrCZ"
      },
      "execution_count": null,
      "outputs": []
    },
    {
      "cell_type": "code",
      "source": [
        "with open('model_json.json', 'w') as f:\n",
        "    f.write(json_string)"
      ],
      "metadata": {
        "id": "hYUfbMG6uqfe"
      },
      "execution_count": null,
      "outputs": []
    },
    {
      "cell_type": "code",
      "source": [
        "# model.load_weights(MODEL_WEIGHTS_FILE)"
      ],
      "metadata": {
        "id": "QH-XIQfkhzsV"
      },
      "execution_count": null,
      "outputs": []
    },
    {
      "cell_type": "code",
      "source": [
        "from sklearn.metrics import f1_score, precision_score, recall_score, confusion_matrix, accuracy_score\n",
        "\n",
        "y_pred_actuals = model.predict([q1_data_test, q2_data_test])"
      ],
      "metadata": {
        "colab": {
          "base_uri": "https://localhost:8080/"
        },
        "id": "9T5YoQEler-S",
        "outputId": "2272ff48-751d-4752-8446-33b0b80bf70a"
      },
      "execution_count": null,
      "outputs": [
        {
          "output_type": "stream",
          "name": "stdout",
          "text": [
            "54/54 [==============================] - 12s 189ms/step\n"
          ]
        }
      ]
    },
    {
      "cell_type": "code",
      "source": [
        "MODEL_THRESHOLD = 0.8\n",
        "y_pred =(y_pred_actuals>MODEL_THRESHOLD)\n",
        "list(y_pred)\n",
        "\n",
        "print(\"Confusion Matrix\")\n",
        "cm = confusion_matrix(is_duplicate_test, y_pred)\n",
        "print(cm)\n",
        "print(\"Precision\", precision_score(is_duplicate_test, y_pred , average=\"macro\"))\n",
        "print(\"Recall\", recall_score(is_duplicate_test, y_pred , average=\"macro\"))\n",
        "print(\"F1 Score\", f1_score(is_duplicate_test, y_pred , average=\"macro\"))\n",
        "print(\"Accuracy\", accuracy_score(is_duplicate_test, y_pred))"
      ],
      "metadata": {
        "colab": {
          "base_uri": "https://localhost:8080/"
        },
        "id": "OU3U6hZ-yYl2",
        "outputId": "92721b4b-c111-40df-e135-25f3ba139b8f"
      },
      "execution_count": null,
      "outputs": [
        {
          "output_type": "stream",
          "name": "stdout",
          "text": [
            "Confusion Matrix\n",
            "[[209 369]\n",
            " [237 910]]\n",
            "Precision 0.5900516098269037\n",
            "Recall 0.5774828573411004\n",
            "F1 Score 0.5792046127885409\n",
            "Accuracy 0.648695652173913\n"
          ]
        }
      ]
    },
    {
      "cell_type": "code",
      "source": [
        "from collections import Counter\n",
        "print(\"Training Counts\\n\\t\", Counter(list(y_train)))\n",
        "print(\"Test Counts\\n\\t\", Counter(list(is_duplicate_test)))\n",
        "print(\"Predictions Counts\\n\\t\", Counter(list(y_pred.flatten())))"
      ],
      "metadata": {
        "colab": {
          "base_uri": "https://localhost:8080/"
        },
        "id": "ep7m8sM7F-wl",
        "outputId": "7f133037-fafb-44fd-e6aa-5d635754b1a2"
      },
      "execution_count": null,
      "outputs": [
        {
          "output_type": "stream",
          "name": "stdout",
          "text": [
            "Training Counts\n",
            "\t Counter({1: 2467, 0: 1201})\n",
            "Test Counts\n",
            "\t Counter({1: 1147, 0: 578})\n",
            "Predictions Counts\n",
            "\t Counter({True: 1279, False: 446})\n"
          ]
        }
      ]
    },
    {
      "cell_type": "code",
      "source": [
        "# !pip list"
      ],
      "metadata": {
        "id": "-gFZr6guHv8a"
      },
      "execution_count": null,
      "outputs": []
    },
    {
      "cell_type": "code",
      "source": [],
      "metadata": {
        "id": "ld7IsGHSY7Y1"
      },
      "execution_count": null,
      "outputs": []
    }
  ]
}