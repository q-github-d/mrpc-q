{
  "nbformat": 4,
  "nbformat_minor": 0,
  "metadata": {
    "colab": {
      "provenance": []
    },
    "kernelspec": {
      "name": "python3",
      "display_name": "Python 3"
    },
    "language_info": {
      "name": "python"
    }
  },
  "cells": [
    {
      "cell_type": "code",
      "execution_count": null,
      "metadata": {
        "colab": {
          "base_uri": "https://localhost:8080/"
        },
        "id": "GOw_jALtfVhE",
        "outputId": "fe68f3c4-97e2-4ba2-8576-a7a780ef8ee6"
      },
      "outputs": [
        {
          "output_type": "stream",
          "name": "stderr",
          "text": [
            "[nltk_data] Downloading package stopwords to /root/nltk_data...\n",
            "[nltk_data]   Package stopwords is already up-to-date!\n"
          ]
        },
        {
          "output_type": "execute_result",
          "data": {
            "text/plain": [
              "True"
            ]
          },
          "metadata": {},
          "execution_count": 6
        }
      ],
      "source": [
        "from __future__ import print_function\n",
        "import numpy as np\n",
        "import csv, json\n",
        "from zipfile import ZipFile\n",
        "from os.path import expanduser, exists\n",
        "from keras.preprocessing.text import Tokenizer\n",
        "from keras.utils import pad_sequences\n",
        "from keras.utils.data_utils import get_file\n",
        "import pandas as pd\n",
        "import string\n",
        "import nltk\n",
        "import pickle\n",
        "nltk.download('stopwords')"
      ]
    },
    {
      "cell_type": "code",
      "source": [
        "#Download the input data from here \n",
        "# https://gist.github.com/W4ngatang/60c2bdb54d156a41194446737ce03e2e\n",
        "# Download it using \n",
        "\n",
        "# python untitled.py --data_dir glue_data --tasks all\n",
        "\n",
        "#Add the following lines in the  untitled.py to properly download the data\n",
        "\n",
        "# import io\n",
        "# URLLIB = urllib.request\n",
        "# 'MRPC':'https://raw.githubusercontent.com/MegEngine/Models/master/official/nlp/bert/glue_data/MRPC/dev_ids.tsv' inside TASK2PATH \n",
        "\n",
        "# !python untitled.py --data_dir glue_data --tasks all"
      ],
      "metadata": {
        "id": "CdEjWYsDgLxs",
        "colab": {
          "base_uri": "https://localhost:8080/"
        },
        "outputId": "42a201e0-cd0b-4b3b-de14-7077c80d3f8c"
      },
      "execution_count": null,
      "outputs": [
        {
          "output_type": "stream",
          "name": "stdout",
          "text": [
            "Downloading and extracting CoLA...\n",
            "\tCompleted!\n",
            "Downloading and extracting SST...\n",
            "\tCompleted!\n",
            "Processing MRPC...\n",
            "\tCompleted!\n",
            "Downloading and extracting QQP...\n",
            "\tCompleted!\n",
            "Downloading and extracting STS...\n",
            "\tCompleted!\n",
            "Downloading and extracting MNLI...\n",
            "\tNote (12/10/20): This script no longer downloads SNLI. You will need to manually download and format the data to use SNLI.\n",
            "\tCompleted!\n",
            "Downloading and extracting QNLI...\n",
            "\tCompleted!\n",
            "Downloading and extracting RTE...\n",
            "\tCompleted!\n",
            "Downloading and extracting WNLI...\n",
            "\tCompleted!\n",
            "Downloading and extracting diagnostic...\n",
            "\tCompleted!\n"
          ]
        }
      ]
    },
    {
      "cell_type": "code",
      "source": [
        "QUESTION_PAIRS_FILE = '/content/glue_data/MRPC/msr_paraphrase_train.txt'\n",
        "QUESTION_PAIRS_FILE_TEST = '/content/glue_data/MRPC/msr_paraphrase_test.txt'\n",
        "GLOVE_ZIP_FILE_URL = 'http://nlp.stanford.edu/data/glove.840B.300d.zip'\n",
        "GLOVE_ZIP_FILE = 'glove.840B.300d.zip'\n",
        "GLOVE_FILE = 'glove.840B.300d.txt'\n",
        "Q1_TRAINING_DATA_FILE = 'q1_train.npy'\n",
        "Q2_TRAINING_DATA_FILE = 'q2_train.npy'\n",
        "LABEL_TRAINING_DATA_FILE = 'label_train.npy'\n",
        "WORD_EMBEDDING_MATRIX_FILE = 'word_embedding_matrix.npy'\n",
        "NB_WORDS_DATA_FILE = 'nb_words.json'\n",
        "\n",
        "Q1_TESTING_DATA_FILE = 'q1_test.npy'\n",
        "Q2_TESTING_DATA_FILE = 'q2_test.npy'\n",
        "LABEL_TESTING_DATA_FILE = 'label_test.npy'\n",
        "\n",
        "MAX_NB_WORDS = 200000\n",
        "MAX_SEQUENCE_LENGTH = 25\n",
        "EMBEDDING_DIM = 300"
      ],
      "metadata": {
        "id": "0sm3xnPVfaIn"
      },
      "execution_count": null,
      "outputs": []
    },
    {
      "cell_type": "code",
      "source": [
        "def get_list(filename_path):\n",
        "  \"\"\"Read the data from file and return the relevant data in list\n",
        "\n",
        "  Parameters:\n",
        "  filename_path (str): Location of File\n",
        "\n",
        "  Returns:\n",
        "  list: sentence1\n",
        "  list: sentence2\n",
        "  list: label\n",
        "  \n",
        "  \"\"\"\n",
        "  print(\"Processing\", filename_path)\n",
        "\n",
        "  sentence1 = []\n",
        "  sentence2 = []\n",
        "  is_duplicate = []\n",
        "  with open(filename_path, encoding='utf-8') as csvfile:\n",
        "      fieldnames = ['label', 'id1', 'id2', 'sentence1', 'sentence2']\n",
        "      reader  = pd.read_csv(filename_path, sep='\\t', quoting=csv.QUOTE_NONE)\n",
        "      reader.columns = fieldnames\n",
        "      totalrows = 0\n",
        "      for ind, row in reader.iterrows():\n",
        "        totalrows+=1\n",
        "        if row['sentence1'] is None:\n",
        "          continue\n",
        "        if row['sentence2'] is None:\n",
        "          continue\n",
        "        if row['label'] is None: \n",
        "          continue\n",
        "        sentence1.append(row['sentence1'])\n",
        "        sentence2.append(row['sentence2'])\n",
        "        is_duplicate.append(row['label'])\n",
        "      print(totalrows)\n",
        "\n",
        "  print('Question pairs: %d' % len(sentence1))\n",
        "  return sentence1, sentence2, is_duplicate"
      ],
      "metadata": {
        "id": "EaWAEyv8gBXs"
      },
      "execution_count": null,
      "outputs": []
    },
    {
      "cell_type": "code",
      "source": [
        "sentence1, sentence2, is_duplicate= get_list(QUESTION_PAIRS_FILE)\n",
        "sentence1_test, sentence2_test, is_duplicate_test= get_list(QUESTION_PAIRS_FILE_TEST)"
      ],
      "metadata": {
        "colab": {
          "base_uri": "https://localhost:8080/"
        },
        "id": "98U4Dti97KaO",
        "outputId": "efe80e61-4c7e-4238-d906-884a82242cff"
      },
      "execution_count": null,
      "outputs": [
        {
          "output_type": "stream",
          "name": "stdout",
          "text": [
            "Processing /content/glue_data/MRPC/msr_paraphrase_train.txt\n",
            "4076\n",
            "Question pairs: 4076\n",
            "Processing /content/glue_data/MRPC/msr_paraphrase_test.txt\n",
            "1725\n",
            "Question pairs: 1725\n"
          ]
        }
      ]
    },
    {
      "cell_type": "code",
      "source": [
        "len(is_duplicate_test)"
      ],
      "metadata": {
        "id": "XHIY0CyoXMTp",
        "colab": {
          "base_uri": "https://localhost:8080/"
        },
        "outputId": "e521ab83-807b-448b-c882-70c857b177b7"
      },
      "execution_count": null,
      "outputs": [
        {
          "output_type": "execute_result",
          "data": {
            "text/plain": [
              "1725"
            ]
          },
          "metadata": {},
          "execution_count": 11
        }
      ]
    },
    {
      "cell_type": "code",
      "source": [
        "def remove_punctuation(list_of_test):\n",
        "  \"\"\"Preprocessing on input data. Removing stopwords, punctuation and making lowercase.\n",
        "\n",
        "  Parameters:\n",
        "  list_of_test (list): list of sentences \n",
        "\n",
        "  Returns:\n",
        "  list: Processed List\n",
        "  \n",
        "  \"\"\"\n",
        "  final_list = []\n",
        "  stopwords = nltk.corpus.stopwords.words('english')\n",
        "  for x in list_of_test:\n",
        "    punctuationfree=\"\".join([i.lower() for i in x if i not in string.punctuation])\n",
        "    filtered = ' '.join([word for word in punctuationfree.split() if word not in stopwords])\n",
        "    final_list.append(filtered)\n",
        "  return final_list"
      ],
      "metadata": {
        "id": "945mUkasv8EC"
      },
      "execution_count": null,
      "outputs": []
    },
    {
      "cell_type": "code",
      "source": [
        "sentence1 = remove_punctuation(sentence1)\n",
        "sentence2 = remove_punctuation(sentence2)\n",
        "sentence1_test = remove_punctuation(sentence1_test)\n",
        "sentence2_test = remove_punctuation(sentence2_test)"
      ],
      "metadata": {
        "id": "1nwxldJHw8Hn"
      },
      "execution_count": null,
      "outputs": []
    },
    {
      "cell_type": "code",
      "source": [
        "def my_tokenizer(sentence1, sentence2):\n",
        "  \"\"\"Tokenizes the input data\n",
        "\n",
        "  Parameters:\n",
        "  sentence1 (list): Sentence1\n",
        "  sentence2 (list): Sentence2\n",
        "\n",
        "  Returns:\n",
        "  dict: word_index\n",
        "  list: sentence1 word sequence\n",
        "  list: sentence2 word sequence\n",
        "  tokenizer: tokenizer fitted on train data\n",
        "  \n",
        "  \"\"\"\n",
        "  questions = sentence1 + sentence2\n",
        "  tokenizer = Tokenizer(num_words=MAX_NB_WORDS)\n",
        "  tokenizer.fit_on_texts(questions)\n",
        "  sentence1_word_sequences = tokenizer.texts_to_sequences(sentence1)\n",
        "  sentence2_word_sequences = tokenizer.texts_to_sequences(sentence2)\n",
        "  word_index = tokenizer.word_index\n",
        "\n",
        "  print(\"Words in index: %d\" % len(word_index))\n",
        "  return word_index, sentence1_word_sequences, sentence2_word_sequences, tokenizer"
      ],
      "metadata": {
        "id": "WCKt-60qiAk8"
      },
      "execution_count": null,
      "outputs": []
    },
    {
      "cell_type": "code",
      "source": [
        "work_index, sentence1_word_sequences, sentence2_word_sequences, tokenizer = my_tokenizer(sentence1, sentence2)\n",
        "sentence1_word_sequences_test = tokenizer.texts_to_sequences(sentence1_test)\n",
        "sentence2_word_sequences_test = tokenizer.texts_to_sequences(sentence2_test)"
      ],
      "metadata": {
        "colab": {
          "base_uri": "https://localhost:8080/"
        },
        "id": "YfwjIdhC8CDE",
        "outputId": "103e3e0b-ac11-40d0-eece-912c9fc965a7"
      },
      "execution_count": null,
      "outputs": [
        {
          "output_type": "stream",
          "name": "stdout",
          "text": [
            "Words in index: 14246\n"
          ]
        }
      ]
    },
    {
      "cell_type": "code",
      "source": [
        "# Downloading the GLove file and extracting embeddings_index\n",
        "\n",
        "if not exists(GLOVE_ZIP_FILE):\n",
        "    zipfile = ZipFile(get_file(GLOVE_ZIP_FILE, GLOVE_ZIP_FILE_URL))\n",
        "    zipfile.extract(GLOVE_FILE)"
      ],
      "metadata": {
        "colab": {
          "base_uri": "https://localhost:8080/"
        },
        "id": "nwTgZFr2iGB0",
        "outputId": "5f3419b1-4c4a-4d3f-bf09-2940085eba22"
      },
      "execution_count": null,
      "outputs": [
        {
          "output_type": "stream",
          "name": "stdout",
          "text": [
            "Downloading data from http://nlp.stanford.edu/data/glove.840B.300d.zip\n",
            "2176768927/2176768927 [==============================] - 410s 0us/step\n"
          ]
        }
      ]
    },
    {
      "cell_type": "code",
      "source": [
        "print(\"Processing\", GLOVE_FILE)\n",
        "\n",
        "embeddings_index = {}\n",
        "with open(GLOVE_FILE, encoding='utf-8') as f:\n",
        "    for line in f:\n",
        "        values = line.split(' ')\n",
        "        word = values[0]\n",
        "        embedding = np.asarray(values[1:], dtype='float32')\n",
        "        embeddings_index[word] = embedding\n",
        "\n",
        "print('Word embeddings: %d' % len(embeddings_index))"
      ],
      "metadata": {
        "colab": {
          "base_uri": "https://localhost:8080/"
        },
        "id": "LvyT1Ooakxrd",
        "outputId": "fa5ba754-6741-4eb0-d5e6-29775f323440"
      },
      "execution_count": null,
      "outputs": [
        {
          "output_type": "stream",
          "name": "stdout",
          "text": [
            "Processing glove.840B.300d.txt\n",
            "Word embeddings: 2196016\n"
          ]
        }
      ]
    },
    {
      "cell_type": "code",
      "source": [
        "def get_embeddings(word_index):\n",
        "  \"\"\"Get embeddings matriz for the words in word_index\n",
        "\n",
        "  Parameters:\n",
        "  word_index (dict): word_index from tokenizer\n",
        "\n",
        "  Returns:\n",
        "  list: word_embedding_matrix\n",
        "  int: number of words\n",
        "  \n",
        "  \"\"\"  \n",
        "  nb_words = min(MAX_NB_WORDS, len(word_index))\n",
        "  word_embedding_matrix = np.zeros((nb_words + 1, EMBEDDING_DIM))\n",
        "  for word, i in word_index.items():\n",
        "      if i > MAX_NB_WORDS:\n",
        "          continue\n",
        "      embedding_vector = embeddings_index.get(word)\n",
        "      if embedding_vector is not None:\n",
        "          word_embedding_matrix[i] = embedding_vector\n",
        "\n",
        "  print('Null word embeddings: %d' % np.sum(np.sum(word_embedding_matrix, axis=1) == 0))\n",
        "  return word_embedding_matrix, nb_words"
      ],
      "metadata": {
        "id": "-cTQEAy9m5i5"
      },
      "execution_count": null,
      "outputs": []
    },
    {
      "cell_type": "code",
      "source": [
        "word_embedding_matrix, nb_words = get_embeddings(work_index)"
      ],
      "metadata": {
        "colab": {
          "base_uri": "https://localhost:8080/"
        },
        "id": "fidKntnT9x0c",
        "outputId": "1987a9b3-8fa0-422f-bc35-00312332b494"
      },
      "execution_count": null,
      "outputs": [
        {
          "output_type": "stream",
          "name": "stdout",
          "text": [
            "Null word embeddings: 1418\n"
          ]
        }
      ]
    },
    {
      "cell_type": "code",
      "source": [
        "def finaL_save(sentence1_word_sequences, sentence2_word_sequences, is_duplicate):\n",
        "  \"\"\"Add padding to the tokeinzed data\n",
        "\n",
        "  Parameters:\n",
        "  list: sentence1 word sequence\n",
        "  list: sentence2 word sequence\n",
        "  list: lables\n",
        "\n",
        "  Returns:\n",
        "  numpy.ndarray: Equal sized word sequence for sentence 1\n",
        "  numpy.ndarray: Equal sized word sequence for sentence 1\n",
        "  numpy.ndarray: labels\n",
        "  \n",
        "  \"\"\"  \n",
        "  q1_data = pad_sequences(sentence1_word_sequences, maxlen=MAX_SEQUENCE_LENGTH)\n",
        "  q2_data = pad_sequences(sentence2_word_sequences, maxlen=MAX_SEQUENCE_LENGTH)\n",
        "  labels = np.array(is_duplicate, dtype=int)\n",
        "  print('Shape of sentence1 data tensor:', q1_data.shape)\n",
        "  print('Shape of sentence2 data tensor:', q2_data.shape)\n",
        "  print('Shape of label tensor:', labels.shape)\n",
        "  return q1_data, q2_data, labels"
      ],
      "metadata": {
        "id": "rxQ1rbiTnmuT"
      },
      "execution_count": null,
      "outputs": []
    },
    {
      "cell_type": "code",
      "source": [
        "q1_data, q2_data, labels= finaL_save(sentence1_word_sequences, sentence2_word_sequences, is_duplicate)\n",
        "q1_data_test, q2_data_test, labels_test= finaL_save(sentence1_word_sequences_test, sentence2_word_sequences_test, is_duplicate_test)"
      ],
      "metadata": {
        "colab": {
          "base_uri": "https://localhost:8080/"
        },
        "id": "HOCHSFwj-UM0",
        "outputId": "bfc9f822-19ad-497b-be6d-1637a6421f10"
      },
      "execution_count": null,
      "outputs": [
        {
          "output_type": "stream",
          "name": "stdout",
          "text": [
            "Shape of sentence1 data tensor: (4076, 25)\n",
            "Shape of sentence2 data tensor: (4076, 25)\n",
            "Shape of label tensor: (4076,)\n",
            "Shape of sentence1 data tensor: (1725, 25)\n",
            "Shape of sentence2 data tensor: (1725, 25)\n",
            "Shape of label tensor: (1725,)\n"
          ]
        }
      ]
    },
    {
      "cell_type": "code",
      "source": [
        "np.save(open(Q1_TRAINING_DATA_FILE, 'wb'), q1_data)\n",
        "np.save(open(Q2_TRAINING_DATA_FILE, 'wb'), q2_data)\n",
        "np.save(open(LABEL_TRAINING_DATA_FILE, 'wb'), labels)\n",
        "np.save(open(WORD_EMBEDDING_MATRIX_FILE, 'wb'), word_embedding_matrix)\n",
        "with open(NB_WORDS_DATA_FILE, 'w') as f:\n",
        "    json.dump({'nb_words': nb_words}, f)\n",
        "with open('tokenizer.pickle', 'wb') as handle:\n",
        "    pickle.dump(tokenizer, handle, protocol=pickle.HIGHEST_PROTOCOL)"
      ],
      "metadata": {
        "id": "UdV3R-g1npeM"
      },
      "execution_count": null,
      "outputs": []
    },
    {
      "cell_type": "code",
      "source": [
        "np.save(open(Q1_TESTING_DATA_FILE, 'wb'), q1_data_test)\n",
        "np.save(open(Q2_TESTING_DATA_FILE, 'wb'), q2_data_test)\n",
        "np.save(open(LABEL_TESTING_DATA_FILE, 'wb'), labels_test)"
      ],
      "metadata": {
        "id": "DF7WZIJ3_Krh"
      },
      "execution_count": null,
      "outputs": []
    },
    {
      "cell_type": "code",
      "source": [
        "%matplotlib inline\n",
        "from __future__ import print_function\n",
        "import numpy as np\n",
        "import pandas as pd\n",
        "import datetime, time, json\n",
        "from keras.models import Model\n",
        "from keras.layers import Input, Bidirectional, LSTM, dot, Flatten, Dense, Reshape, add, Dropout, BatchNormalization,TimeDistributed, Lambda, concatenate\n",
        "from keras.layers import Embedding\n",
        "from keras.regularizers import l2\n",
        "from keras.callbacks import Callback, ModelCheckpoint, EarlyStopping\n",
        "from keras import backend as K\n",
        "from sklearn.model_selection import train_test_split"
      ],
      "metadata": {
        "id": "o0dLQ_Ccny_y"
      },
      "execution_count": null,
      "outputs": []
    },
    {
      "cell_type": "code",
      "source": [
        "Q1_TRAINING_DATA_FILE = 'q1_train.npy'\n",
        "Q2_TRAINING_DATA_FILE = 'q2_train.npy'\n",
        "LABEL_TRAINING_DATA_FILE = 'label_train.npy'\n",
        "WORD_EMBEDDING_MATRIX_FILE = 'word_embedding_matrix.npy'\n",
        "NB_WORDS_DATA_FILE = 'nb_words.json'\n",
        "\n",
        "Q1_TESTING_DATA_FILE = 'q1_test.npy'\n",
        "Q2_TESTING_DATA_FILE = 'q2_test.npy'\n",
        "LABEL_TESTING_DATA_FILE = 'label_test.npy'\n",
        "\n",
        "MODEL_WEIGHTS_FILE = 'model_weights.h5'\n",
        "MAX_SEQUENCE_LENGTH = 25\n",
        "WORD_EMBEDDING_DIM = 300\n",
        "SENT_EMBEDDING_DIM = 128\n",
        "VALIDATION_SPLIT = 0.1\n",
        "TEST_SPLIT = 0.1\n",
        "RNG_SEED = 13371447\n",
        "NB_EPOCHS = 25\n",
        "DROPOUT = 0.2\n",
        "BATCH_SIZE = 516"
      ],
      "metadata": {
        "id": "2vRCFnRXn7D_"
      },
      "execution_count": null,
      "outputs": []
    },
    {
      "cell_type": "code",
      "source": [
        "q1_data = np.load(open(Q1_TRAINING_DATA_FILE, 'rb'))\n",
        "q2_data = np.load(open(Q2_TRAINING_DATA_FILE, 'rb'))\n",
        "labels = np.load(open(LABEL_TRAINING_DATA_FILE, 'rb'))\n",
        "word_embedding_matrix = np.load(open(WORD_EMBEDDING_MATRIX_FILE, 'rb'))\n",
        "with open(NB_WORDS_DATA_FILE, 'r') as f:\n",
        "    nb_words = json.load(f)['nb_words']\n",
        "with open('tokenizer.pickle', 'rb') as handle:\n",
        "    tokenizer2 = pickle.load(handle)"
      ],
      "metadata": {
        "id": "6Ic13we4oLDF"
      },
      "execution_count": null,
      "outputs": []
    },
    {
      "cell_type": "code",
      "source": [
        "q1_data.shape"
      ],
      "metadata": {
        "colab": {
          "base_uri": "https://localhost:8080/"
        },
        "id": "WOhcyCv6oNgz",
        "outputId": "37a30c99-4aab-4107-a4de-c4440aa90aa1"
      },
      "execution_count": null,
      "outputs": [
        {
          "output_type": "execute_result",
          "data": {
            "text/plain": [
              "(4076, 25)"
            ]
          },
          "metadata": {},
          "execution_count": 27
        }
      ]
    },
    {
      "cell_type": "code",
      "source": [
        "X = np.stack((q1_data, q2_data), axis=1)\n",
        "y = labels\n",
        "X_train, X_test, y_train, y_test = train_test_split(X, y, test_size=TEST_SPLIT, random_state=RNG_SEED)\n",
        "Q1_train = X_train[:,0]\n",
        "Q2_train = X_train[:,1]\n",
        "Q1_test = X_test[:,0]\n",
        "Q2_test = X_test[:,1]"
      ],
      "metadata": {
        "id": "no1qJFZOoVaz"
      },
      "execution_count": null,
      "outputs": []
    },
    {
      "cell_type": "code",
      "source": [
        "sentence1 = Input(shape=(MAX_SEQUENCE_LENGTH,))\n",
        "sentence2 = Input(shape=(MAX_SEQUENCE_LENGTH,))\n",
        "\n",
        "q1 = Embedding(nb_words + 1, \n",
        "                 WORD_EMBEDDING_DIM, \n",
        "                 weights=[word_embedding_matrix], \n",
        "                 input_length=MAX_SEQUENCE_LENGTH, \n",
        "                 trainable=False)(sentence1)\n",
        "q1 = Bidirectional(LSTM(SENT_EMBEDDING_DIM, return_sequences=True), merge_mode=\"sum\")(q1)\n",
        "\n",
        "q2 = Embedding(nb_words + 1, \n",
        "                 WORD_EMBEDDING_DIM, \n",
        "                 weights=[word_embedding_matrix], \n",
        "                 input_length=MAX_SEQUENCE_LENGTH, \n",
        "                 trainable=False)(sentence2)\n",
        "q2 = Bidirectional(LSTM(SENT_EMBEDDING_DIM, return_sequences=True), merge_mode=\"sum\")(q2)\n",
        "\n",
        "attention = dot([q1,q2], [1,1])\n",
        "attention = Flatten()(attention)\n",
        "attention = Dense((MAX_SEQUENCE_LENGTH*SENT_EMBEDDING_DIM))(attention)\n",
        "attention = Reshape((MAX_SEQUENCE_LENGTH, SENT_EMBEDDING_DIM))(attention)\n",
        "\n",
        "merged = add([q1,attention])\n",
        "merged = Flatten()(merged)\n",
        "merged = Dense(200, activation='relu')(merged)\n",
        "merged = Dropout(DROPOUT)(merged)\n",
        "merged = BatchNormalization()(merged)\n",
        "# merged = Dense(200, activation='relu')(merged)\n",
        "# merged = Dropout(DROPOUT)(merged)\n",
        "# merged = BatchNormalization()(merged)\n",
        "# merged = Dense(200, activation='relu')(merged)\n",
        "# merged = Dropout(DROPOUT)(merged)\n",
        "# merged = BatchNormalization()(merged)\n",
        "merged = Dense(200, activation='relu')(merged)\n",
        "merged = Dropout(DROPOUT)(merged)\n",
        "merged = BatchNormalization()(merged)\n",
        "\n",
        "is_duplicate = Dense(1, activation='sigmoid')(merged)\n",
        "\n",
        "model = Model(inputs=[sentence1,sentence2], outputs=is_duplicate)\n",
        "model.compile(loss='binary_crossentropy', optimizer='adam', metrics=['accuracy'])"
      ],
      "metadata": {
        "id": "h88IukHls4jc"
      },
      "execution_count": null,
      "outputs": []
    },
    {
      "cell_type": "code",
      "source": [
        "model.summary()"
      ],
      "metadata": {
        "colab": {
          "base_uri": "https://localhost:8080/"
        },
        "id": "gHeno9ZImKSA",
        "outputId": "f9009688-0530-4640-93bd-4a6a522cdb59"
      },
      "execution_count": null,
      "outputs": [
        {
          "output_type": "stream",
          "name": "stdout",
          "text": [
            "Model: \"model\"\n",
            "__________________________________________________________________________________________________\n",
            " Layer (type)                   Output Shape         Param #     Connected to                     \n",
            "==================================================================================================\n",
            " input_1 (InputLayer)           [(None, 25)]         0           []                               \n",
            "                                                                                                  \n",
            " input_2 (InputLayer)           [(None, 25)]         0           []                               \n",
            "                                                                                                  \n",
            " embedding (Embedding)          (None, 25, 300)      4274100     ['input_1[0][0]']                \n",
            "                                                                                                  \n",
            " embedding_1 (Embedding)        (None, 25, 300)      4274100     ['input_2[0][0]']                \n",
            "                                                                                                  \n",
            " bidirectional (Bidirectional)  (None, 25, 128)      439296      ['embedding[0][0]']              \n",
            "                                                                                                  \n",
            " bidirectional_1 (Bidirectional  (None, 25, 128)     439296      ['embedding_1[0][0]']            \n",
            " )                                                                                                \n",
            "                                                                                                  \n",
            " dot (Dot)                      (None, 128, 128)     0           ['bidirectional[0][0]',          \n",
            "                                                                  'bidirectional_1[0][0]']        \n",
            "                                                                                                  \n",
            " flatten (Flatten)              (None, 16384)        0           ['dot[0][0]']                    \n",
            "                                                                                                  \n",
            " dense (Dense)                  (None, 3200)         52432000    ['flatten[0][0]']                \n",
            "                                                                                                  \n",
            " reshape (Reshape)              (None, 25, 128)      0           ['dense[0][0]']                  \n",
            "                                                                                                  \n",
            " add (Add)                      (None, 25, 128)      0           ['bidirectional[0][0]',          \n",
            "                                                                  'reshape[0][0]']                \n",
            "                                                                                                  \n",
            " flatten_1 (Flatten)            (None, 3200)         0           ['add[0][0]']                    \n",
            "                                                                                                  \n",
            " dense_1 (Dense)                (None, 200)          640200      ['flatten_1[0][0]']              \n",
            "                                                                                                  \n",
            " dropout (Dropout)              (None, 200)          0           ['dense_1[0][0]']                \n",
            "                                                                                                  \n",
            " batch_normalization (BatchNorm  (None, 200)         800         ['dropout[0][0]']                \n",
            " alization)                                                                                       \n",
            "                                                                                                  \n",
            " dense_2 (Dense)                (None, 200)          40200       ['batch_normalization[0][0]']    \n",
            "                                                                                                  \n",
            " dropout_1 (Dropout)            (None, 200)          0           ['dense_2[0][0]']                \n",
            "                                                                                                  \n",
            " batch_normalization_1 (BatchNo  (None, 200)         800         ['dropout_1[0][0]']              \n",
            " rmalization)                                                                                     \n",
            "                                                                                                  \n",
            " dense_3 (Dense)                (None, 1)            201         ['batch_normalization_1[0][0]']  \n",
            "                                                                                                  \n",
            "==================================================================================================\n",
            "Total params: 62,540,993\n",
            "Trainable params: 53,991,993\n",
            "Non-trainable params: 8,549,000\n",
            "__________________________________________________________________________________________________\n"
          ]
        }
      ]
    },
    {
      "cell_type": "code",
      "source": [
        "print(\"Starting training at\", datetime.datetime.now())\n",
        "t0 = time.time()\n",
        "callbacks = [ModelCheckpoint(MODEL_WEIGHTS_FILE, monitor='val_accuracy', save_best_only=True), EarlyStopping(monitor='val_loss', mode='min', verbose=1)]\n",
        "history = model.fit([Q1_train, Q2_train],\n",
        "                    y_train,\n",
        "                    epochs=NB_EPOCHS,\n",
        "                    validation_split=VALIDATION_SPLIT,\n",
        "                    verbose=2,\n",
        "                    batch_size=BATCH_SIZE,\n",
        "                    callbacks=callbacks)\n",
        "t1 = time.time()\n",
        "print(\"Training ended at\", datetime.datetime.now())\n",
        "print(\"Minutes elapsed: %f\" % ((t1 - t0) / 60.))"
      ],
      "metadata": {
        "colab": {
          "base_uri": "https://localhost:8080/"
        },
        "id": "63TdsBLYs6zJ",
        "outputId": "9cddb293-9b31-487d-8c53-8edd9aa29882"
      },
      "execution_count": null,
      "outputs": [
        {
          "output_type": "stream",
          "name": "stdout",
          "text": [
            "Starting training at 2023-03-24 11:27:32.356029\n",
            "Epoch 1/25\n",
            "7/7 - 39s - loss: 0.8179 - accuracy: 0.5659 - val_loss: 1.2923 - val_accuracy: 0.4932 - 39s/epoch - 6s/step\n",
            "Epoch 2/25\n",
            "7/7 - 29s - loss: 0.6666 - accuracy: 0.6183 - val_loss: 0.8688 - val_accuracy: 0.6785 - 29s/epoch - 4s/step\n",
            "Epoch 2: early stopping\n",
            "Training ended at 2023-03-24 11:28:39.988074\n",
            "Minutes elapsed: 1.127197\n"
          ]
        }
      ]
    },
    {
      "cell_type": "code",
      "source": [
        "acc = pd.DataFrame({'epoch': [ i + 1 for i in history.epoch ],\n",
        "                    'training': history.history['accuracy'],\n",
        "                    'validation': history.history['val_accuracy']})\n",
        "ax = acc.set_index('epoch').plot()\n",
        "# ax = acc.iloc[:,:].plot(x='epoch', figsize={5,8}, grid=True)\n",
        "ax.set_ylabel(\"accuracy\")\n",
        "ax.set_ylim([0.0,1.0]);"
      ],
      "metadata": {
        "colab": {
          "base_uri": "https://localhost:8080/",
          "height": 283
        },
        "id": "ZARry3GqtC43",
        "outputId": "81739e79-7865-41aa-97cf-8bf390367007"
      },
      "execution_count": null,
      "outputs": [
        {
          "output_type": "display_data",
          "data": {
            "text/plain": [
              "<Figure size 432x288 with 1 Axes>"
            ],
            "image/png": "[encoded data removed]"
          },
          "metadata": {
            "needs_background": "light"
          }
        }
      ]
    },
    {
      "cell_type": "code",
      "source": [
        "max_val_acc, idx = max((val, idx) for (idx, val) in enumerate(history.history['val_accuracy']))\n",
        "print('Maximum accuracy at epoch', '{:d}'.format(idx+1), '=', '{:.4f}'.format(max_val_acc))"
      ],
      "metadata": {
        "colab": {
          "base_uri": "https://localhost:8080/"
        },
        "id": "WfjJW03sxQbC",
        "outputId": "a54b8de5-e38e-48f8-b943-9fba146e79b0"
      },
      "execution_count": null,
      "outputs": [
        {
          "output_type": "stream",
          "name": "stdout",
          "text": [
            "Maximum accuracy at epoch 2 = 0.6785\n"
          ]
        }
      ]
    },
    {
      "cell_type": "code",
      "source": [
        "# model.load_weights(MODEL_WEIGHTS_FILE)\n",
        "loss, accuracy = model.evaluate([q1_data_test, q2_data_test], np.asarray(is_duplicate_test), verbose=0)\n",
        "print('loss = {0:.4f}, accuracy = {1:.4f}'.format(loss, accuracy))\n",
        "# loss = 0.7759, accuracy = 0.6858"
      ],
      "metadata": {
        "colab": {
          "base_uri": "https://localhost:8080/"
        },
        "id": "BAGYRhXeyHUT",
        "outputId": "dfbb8645-3fac-4685-bf04-f10f4c72b902"
      },
      "execution_count": null,
      "outputs": [
        {
          "output_type": "stream",
          "name": "stdout",
          "text": [
            "loss = 0.9138, accuracy = 0.6841\n"
          ]
        }
      ]
    },
    {
      "cell_type": "code",
      "source": [
        "model.save(MODEL_WEIGHTS_FILE)"
      ],
      "metadata": {
        "id": "7N3A8kayyMxa"
      },
      "execution_count": null,
      "outputs": []
    },
    {
      "cell_type": "code",
      "source": [
        "# model.load_weights(MODEL_WEIGHTS_FILE)"
      ],
      "metadata": {
        "id": "QH-XIQfkhzsV"
      },
      "execution_count": null,
      "outputs": []
    },
    {
      "cell_type": "code",
      "source": [
        "from sklearn.metrics import f1_score, precision_score, recall_score, confusion_matrix, accuracy_score\n",
        "\n",
        "y_pred_actuals = model.predict([q1_data_test, q2_data_test])"
      ],
      "metadata": {
        "colab": {
          "base_uri": "https://localhost:8080/"
        },
        "id": "9T5YoQEler-S",
        "outputId": "40712094-f035-4726-ccd5-a4c18f640aa3"
      },
      "execution_count": null,
      "outputs": [
        {
          "output_type": "stream",
          "name": "stdout",
          "text": [
            "54/54 [==============================] - 9s 108ms/step\n"
          ]
        }
      ]
    },
    {
      "cell_type": "code",
      "source": [
        "MODEL_THRESHOLD = 0.8\n",
        "y_pred =(y_pred_actuals>MODEL_THRESHOLD)\n",
        "list(y_pred)\n",
        "\n",
        "cm = confusion_matrix(is_duplicate_test, y_pred)\n",
        "print(cm)\n",
        "print(precision_score(is_duplicate_test, y_pred , average=\"macro\"))\n",
        "print(recall_score(is_duplicate_test, y_pred , average=\"macro\"))\n",
        "print(\"F1 Score\", f1_score(is_duplicate_test, y_pred , average=\"macro\"))\n",
        "print(\"Accuracy\", accuracy_score(is_duplicate_test, y_pred))"
      ],
      "metadata": {
        "colab": {
          "base_uri": "https://localhost:8080/"
        },
        "id": "OU3U6hZ-yYl2",
        "outputId": "aaa91f0f-8170-4f78-eedb-79051ea8e272"
      },
      "execution_count": null,
      "outputs": [
        {
          "output_type": "stream",
          "name": "stdout",
          "text": [
            "[[210 368]\n",
            " [274 873]]\n",
            "0.5686746225717729\n",
            "0.5622188769861501\n",
            "F1 Score 0.5633180024415865\n",
            "Accuracy 0.6278260869565218\n"
          ]
        }
      ]
    },
    {
      "cell_type": "code",
      "source": [
        "from collections import Counter\n",
        "print(Counter(list(y_train)))\n",
        "print(Counter(list(is_duplicate_test)))\n",
        "print(Counter(list(y_pred.flatten())))"
      ],
      "metadata": {
        "colab": {
          "base_uri": "https://localhost:8080/"
        },
        "id": "ep7m8sM7F-wl",
        "outputId": "61c349b5-0848-4fd1-d7eb-f85faade8d21"
      },
      "execution_count": null,
      "outputs": [
        {
          "output_type": "stream",
          "name": "stdout",
          "text": [
            "Counter({1: 2467, 0: 1201})\n",
            "Counter({1: 1147, 0: 578})\n",
            "Counter({True: 1241, False: 484})\n"
          ]
        }
      ]
    },
    {
      "cell_type": "code",
      "source": [
        "# !pip list"
      ],
      "metadata": {
        "id": "-gFZr6guHv8a"
      },
      "execution_count": null,
      "outputs": []
    },
    {
      "cell_type": "code",
      "source": [],
      "metadata": {
        "id": "ld7IsGHSY7Y1"
      },
      "execution_count": null,
      "outputs": []
    }
  ]
}